{
 "cells": [
  {
   "cell_type": "code",
   "execution_count": 1,
   "id": "e4e94829",
   "metadata": {},
   "outputs": [
    {
     "name": "stderr",
     "output_type": "stream",
     "text": [
      "/home/erikt/_dev/txn-classifier/.venv/lib/python3.12/site-packages/tqdm/auto.py:21: TqdmWarning: IProgress not found. Please update jupyter and ipywidgets. See https://ipywidgets.readthedocs.io/en/stable/user_install.html\n",
      "  from .autonotebook import tqdm as notebook_tqdm\n",
      "2025-07-16 12:25:01.389814: I tensorflow/core/util/port.cc:153] oneDNN custom operations are on. You may see slightly different numerical results due to floating-point round-off errors from different computation orders. To turn them off, set the environment variable `TF_ENABLE_ONEDNN_OPTS=0`.\n",
      "2025-07-16 12:25:01.410130: E external/local_xla/xla/stream_executor/cuda/cuda_fft.cc:477] Unable to register cuFFT factory: Attempting to register factory for plugin cuFFT when one has already been registered\n",
      "WARNING: All log messages before absl::InitializeLog() is called are written to STDERR\n",
      "E0000 00:00:1752690301.433846   36900 cuda_dnn.cc:8310] Unable to register cuDNN factory: Attempting to register factory for plugin cuDNN when one has already been registered\n",
      "E0000 00:00:1752690301.441277   36900 cuda_blas.cc:1418] Unable to register cuBLAS factory: Attempting to register factory for plugin cuBLAS when one has already been registered\n",
      "2025-07-16 12:25:01.476406: I tensorflow/core/platform/cpu_feature_guard.cc:210] This TensorFlow binary is optimized to use available CPU instructions in performance-critical operations.\n",
      "To enable the following instructions: AVX2 AVX512F AVX512_VNNI FMA, in other operations, rebuild TensorFlow with the appropriate compiler flags.\n"
     ]
    }
   ],
   "source": [
    "from datasets import Dataset\n",
    "import evaluate\n",
    "import matplotlib.pyplot as plt\n",
    "import numpy as np\n",
    "import pandas as pd\n",
    "import re\n",
    "from sklearn.model_selection import train_test_split\n",
    "from sklearn.preprocessing import LabelEncoder, StandardScaler\n",
    "from sklearn.utils.class_weight import compute_class_weight\n",
    "import torch\n",
    "from transformers import (\n",
    "    AutoTokenizer, \n",
    "    AutoModelForSequenceClassification, \n",
    "    Trainer, \n",
    "    TrainingArguments, \n",
    "    DataCollatorWithPadding\n",
    ")"
   ]
  },
  {
   "cell_type": "code",
   "execution_count": 2,
   "id": "b215f6ce",
   "metadata": {},
   "outputs": [
    {
     "name": "stdout",
     "output_type": "stream",
     "text": [
      "True\n",
      "NVIDIA RTX A2000 Laptop GPU\n"
     ]
    }
   ],
   "source": [
    "print(torch.cuda.is_available())  # Should return True\n",
    "print(torch.cuda.get_device_name(0))  # Print GPU name"
   ]
  },
  {
   "cell_type": "code",
   "execution_count": 3,
   "id": "0228ace2",
   "metadata": {},
   "outputs": [
    {
     "data": {
      "text/html": [
       "<div>\n",
       "<style scoped>\n",
       "    .dataframe tbody tr th:only-of-type {\n",
       "        vertical-align: middle;\n",
       "    }\n",
       "\n",
       "    .dataframe tbody tr th {\n",
       "        vertical-align: top;\n",
       "    }\n",
       "\n",
       "    .dataframe thead th {\n",
       "        text-align: right;\n",
       "    }\n",
       "</style>\n",
       "<table border=\"1\" class=\"dataframe\">\n",
       "  <thead>\n",
       "    <tr style=\"text-align: right;\">\n",
       "      <th></th>\n",
       "      <th>id</th>\n",
       "      <th>amount</th>\n",
       "      <th>date</th>\n",
       "      <th>isRecurring</th>\n",
       "      <th>createdAt</th>\n",
       "      <th>updatedAt</th>\n",
       "      <th>merchant_name</th>\n",
       "      <th>cat_label</th>\n",
       "    </tr>\n",
       "  </thead>\n",
       "  <tbody>\n",
       "    <tr>\n",
       "      <th>0</th>\n",
       "      <td>207960217406708418</td>\n",
       "      <td>158.11</td>\n",
       "      <td>2025-04-14</td>\n",
       "      <td>False</td>\n",
       "      <td>2025-04-14T10:38:38.177630+00:00</td>\n",
       "      <td>2025-04-14T22:15:19.137902+00:00</td>\n",
       "      <td>Airbnb 4977</td>\n",
       "      <td>income</td>\n",
       "    </tr>\n",
       "    <tr>\n",
       "      <th>1</th>\n",
       "      <td>207960212463720951</td>\n",
       "      <td>-600.00</td>\n",
       "      <td>2025-04-14</td>\n",
       "      <td>False</td>\n",
       "      <td>2025-04-14T10:38:33.465585+00:00</td>\n",
       "      <td>2025-04-14T22:15:21.945296+00:00</td>\n",
       "      <td>Mountain View Ac Sale</td>\n",
       "      <td>taxes</td>\n",
       "    </tr>\n",
       "    <tr>\n",
       "      <th>2</th>\n",
       "      <td>207850760872958776</td>\n",
       "      <td>-170.00</td>\n",
       "      <td>2025-04-12</td>\n",
       "      <td>False</td>\n",
       "      <td>2025-04-13T05:38:52.292345+00:00</td>\n",
       "      <td>2025-04-15T01:51:23.081038+00:00</td>\n",
       "      <td>NEAL BRUGMAN PSYD</td>\n",
       "      <td>therapy</td>\n",
       "    </tr>\n",
       "    <tr>\n",
       "      <th>3</th>\n",
       "      <td>207850760872958775</td>\n",
       "      <td>-2.99</td>\n",
       "      <td>2025-04-12</td>\n",
       "      <td>True</td>\n",
       "      <td>2025-04-13T05:38:52.292246+00:00</td>\n",
       "      <td>2025-04-15T01:51:22.891655+00:00</td>\n",
       "      <td>Apple</td>\n",
       "      <td>guilt_free</td>\n",
       "    </tr>\n",
       "    <tr>\n",
       "      <th>4</th>\n",
       "      <td>207850760872958778</td>\n",
       "      <td>-10.00</td>\n",
       "      <td>2025-04-11</td>\n",
       "      <td>False</td>\n",
       "      <td>2025-04-13T05:38:52.292456+00:00</td>\n",
       "      <td>2025-04-14T22:15:28.784642+00:00</td>\n",
       "      <td>Bandca Subscr</td>\n",
       "      <td>guilt_free</td>\n",
       "    </tr>\n",
       "  </tbody>\n",
       "</table>\n",
       "</div>"
      ],
      "text/plain": [
       "                   id  amount        date  isRecurring  \\\n",
       "0  207960217406708418  158.11  2025-04-14        False   \n",
       "1  207960212463720951 -600.00  2025-04-14        False   \n",
       "2  207850760872958776 -170.00  2025-04-12        False   \n",
       "3  207850760872958775   -2.99  2025-04-12         True   \n",
       "4  207850760872958778  -10.00  2025-04-11        False   \n",
       "\n",
       "                          createdAt                         updatedAt  \\\n",
       "0  2025-04-14T10:38:38.177630+00:00  2025-04-14T22:15:19.137902+00:00   \n",
       "1  2025-04-14T10:38:33.465585+00:00  2025-04-14T22:15:21.945296+00:00   \n",
       "2  2025-04-13T05:38:52.292345+00:00  2025-04-15T01:51:23.081038+00:00   \n",
       "3  2025-04-13T05:38:52.292246+00:00  2025-04-15T01:51:22.891655+00:00   \n",
       "4  2025-04-13T05:38:52.292456+00:00  2025-04-14T22:15:28.784642+00:00   \n",
       "\n",
       "           merchant_name   cat_label  \n",
       "0            Airbnb 4977      income  \n",
       "1  Mountain View Ac Sale       taxes  \n",
       "2      NEAL BRUGMAN PSYD     therapy  \n",
       "3                  Apple  guilt_free  \n",
       "4          Bandca Subscr  guilt_free  "
      ]
     },
     "execution_count": 3,
     "metadata": {},
     "output_type": "execute_result"
    }
   ],
   "source": [
    "df_train = pd.read_csv(\"../data/raw-transactions.csv\")\n",
    "df_train.head()"
   ]
  },
  {
   "cell_type": "code",
   "execution_count": 4,
   "id": "806bb205",
   "metadata": {},
   "outputs": [
    {
     "data": {
      "text/plain": [
       "<Axes: ylabel='cat_label'>"
      ]
     },
     "execution_count": 4,
     "metadata": {},
     "output_type": "execute_result"
    },
    {
     "data": {
      "image/png": "[encoded data removed]",
      "text/plain": [
       "<Figure size 640x480 with 1 Axes>"
      ]
     },
     "metadata": {},
     "output_type": "display_data"
    }
   ],
   "source": [
    "df_train['cat_label'].value_counts().plot(kind='barh')"
   ]
  },
  {
   "cell_type": "code",
   "execution_count": 5,
   "id": "4b9a7661",
   "metadata": {},
   "outputs": [
    {
     "data": {
      "text/html": [
       "<div>\n",
       "<style scoped>\n",
       "    .dataframe tbody tr th:only-of-type {\n",
       "        vertical-align: middle;\n",
       "    }\n",
       "\n",
       "    .dataframe tbody tr th {\n",
       "        vertical-align: top;\n",
       "    }\n",
       "\n",
       "    .dataframe thead th {\n",
       "        text-align: right;\n",
       "    }\n",
       "</style>\n",
       "<table border=\"1\" class=\"dataframe\">\n",
       "  <thead>\n",
       "    <tr style=\"text-align: right;\">\n",
       "      <th></th>\n",
       "      <th>id</th>\n",
       "      <th>amount</th>\n",
       "      <th>date</th>\n",
       "      <th>isRecurring</th>\n",
       "      <th>createdAt</th>\n",
       "      <th>updatedAt</th>\n",
       "      <th>merchant_name</th>\n",
       "      <th>cat_label</th>\n",
       "    </tr>\n",
       "  </thead>\n",
       "  <tbody>\n",
       "    <tr>\n",
       "      <th>0</th>\n",
       "      <td>207960217406708418</td>\n",
       "      <td>158.11</td>\n",
       "      <td>2025-04-14</td>\n",
       "      <td>False</td>\n",
       "      <td>2025-04-14T10:38:38.177630+00:00</td>\n",
       "      <td>2025-04-14T22:15:19.137902+00:00</td>\n",
       "      <td>Airbnb 4977</td>\n",
       "      <td>income</td>\n",
       "    </tr>\n",
       "    <tr>\n",
       "      <th>1</th>\n",
       "      <td>207960212463720951</td>\n",
       "      <td>-600.00</td>\n",
       "      <td>2025-04-14</td>\n",
       "      <td>False</td>\n",
       "      <td>2025-04-14T10:38:33.465585+00:00</td>\n",
       "      <td>2025-04-14T22:15:21.945296+00:00</td>\n",
       "      <td>Mountain View Ac Sale</td>\n",
       "      <td>taxes</td>\n",
       "    </tr>\n",
       "    <tr>\n",
       "      <th>2</th>\n",
       "      <td>207850760872958776</td>\n",
       "      <td>-170.00</td>\n",
       "      <td>2025-04-12</td>\n",
       "      <td>False</td>\n",
       "      <td>2025-04-13T05:38:52.292345+00:00</td>\n",
       "      <td>2025-04-15T01:51:23.081038+00:00</td>\n",
       "      <td>NEAL BRUGMAN PSYD</td>\n",
       "      <td>therapy</td>\n",
       "    </tr>\n",
       "    <tr>\n",
       "      <th>3</th>\n",
       "      <td>207850760872958775</td>\n",
       "      <td>-2.99</td>\n",
       "      <td>2025-04-12</td>\n",
       "      <td>True</td>\n",
       "      <td>2025-04-13T05:38:52.292246+00:00</td>\n",
       "      <td>2025-04-15T01:51:22.891655+00:00</td>\n",
       "      <td>Apple</td>\n",
       "      <td>guilt_free</td>\n",
       "    </tr>\n",
       "    <tr>\n",
       "      <th>4</th>\n",
       "      <td>207850760872958778</td>\n",
       "      <td>-10.00</td>\n",
       "      <td>2025-04-11</td>\n",
       "      <td>False</td>\n",
       "      <td>2025-04-13T05:38:52.292456+00:00</td>\n",
       "      <td>2025-04-14T22:15:28.784642+00:00</td>\n",
       "      <td>Bandca Subscr</td>\n",
       "      <td>guilt_free</td>\n",
       "    </tr>\n",
       "  </tbody>\n",
       "</table>\n",
       "</div>"
      ],
      "text/plain": [
       "                   id  amount        date  isRecurring  \\\n",
       "0  207960217406708418  158.11  2025-04-14        False   \n",
       "1  207960212463720951 -600.00  2025-04-14        False   \n",
       "2  207850760872958776 -170.00  2025-04-12        False   \n",
       "3  207850760872958775   -2.99  2025-04-12         True   \n",
       "4  207850760872958778  -10.00  2025-04-11        False   \n",
       "\n",
       "                          createdAt                         updatedAt  \\\n",
       "0  2025-04-14T10:38:38.177630+00:00  2025-04-14T22:15:19.137902+00:00   \n",
       "1  2025-04-14T10:38:33.465585+00:00  2025-04-14T22:15:21.945296+00:00   \n",
       "2  2025-04-13T05:38:52.292345+00:00  2025-04-15T01:51:23.081038+00:00   \n",
       "3  2025-04-13T05:38:52.292246+00:00  2025-04-15T01:51:22.891655+00:00   \n",
       "4  2025-04-13T05:38:52.292456+00:00  2025-04-14T22:15:28.784642+00:00   \n",
       "\n",
       "           merchant_name   cat_label  \n",
       "0            Airbnb 4977      income  \n",
       "1  Mountain View Ac Sale       taxes  \n",
       "2      NEAL BRUGMAN PSYD     therapy  \n",
       "3                  Apple  guilt_free  \n",
       "4          Bandca Subscr  guilt_free  "
      ]
     },
     "execution_count": 5,
     "metadata": {},
     "output_type": "execute_result"
    }
   ],
   "source": [
    "df_train.head()"
   ]
  },
  {
   "cell_type": "code",
   "execution_count": 6,
   "id": "22960562",
   "metadata": {},
   "outputs": [
    {
     "data": {
      "text/plain": [
       "['Transaction: $158.11 credit at airbnb 4977 - Type: income',\n",
       " 'Transaction: $600.0 payment at mountain view ac sale - Type: expense',\n",
       " 'Transaction: $170.0 payment at neal brugman psyd - Type: expense',\n",
       " 'Transaction: $2.99 payment at apple - Type: expense',\n",
       " 'Transaction: $10.0 payment at bandca subscr - Type: expense',\n",
       " 'Transaction: $19.95 payment at trade - Type: expense',\n",
       " 'Transaction: $226.65 payment at xcel energy - Type: expense',\n",
       " \"Transaction: $11.76 payment at arby's - Type: expense\",\n",
       " 'Transaction: $45.04 payment at sdpy tran ac - Type: expense',\n",
       " \"Transaction: $12.25 payment at devil's food bakery - Type: expense\"]"
      ]
     },
     "execution_count": 6,
     "metadata": {},
     "output_type": "execute_result"
    }
   ],
   "source": [
    "def clean(text):\n",
    "    # Separate numbers from letters (e.g., \"abc123\" → \"abc 123\")\n",
    "    text = re.sub(r\"([a-zA-Z])(\\d)\", r\"\\1 \\2\", text)\n",
    "    text = re.sub(r\"(\\d)([a-zA-Z])\", r\"\\1 \\2\", text)\n",
    "\n",
    "    # Lowercase + trim spaces\n",
    "    text = re.sub(r\"\\s+\", \" \", text)\n",
    "    return text.lower().strip()\n",
    "\n",
    "def tokenize(text):\n",
    "    text = clean(text)\n",
    "    text = re.sub(r\"\\s+\", \" \", text).strip().lower()\n",
    "    return text.split()\n",
    "\n",
    "def get_trans_string(row):\n",
    "    merchant_text = ' '.join(tokenize(row['merchant_name']))\n",
    "    return f\"Transaction: ${abs(row['amount'])}{\" credit\" if row['amount'] > 0 else \" payment\"} at {merchant_text} - Type: {\"income\" if row['amount'] > 0 else \"expense\"}\"\n",
    "\n",
    "merchant_sentences = df_train.apply(get_trans_string, axis=1).tolist()\n",
    "merchant_sentences[:10]\n"
   ]
  },
  {
   "cell_type": "code",
   "execution_count": 7,
   "id": "b9edab3e",
   "metadata": {},
   "outputs": [
    {
     "name": "stdout",
     "output_type": "stream",
     "text": [
      "Transaction: $19.95 payment at trade - Type: expense\n",
      "Predicted category: 22\n"
     ]
    }
   ],
   "source": [
    "from transformers import BertTokenizer, BertForSequenceClassification\n",
    "\n",
    "model_name = \"kuro-08/bert-transaction-categorization\"\n",
    "tokenizer = BertTokenizer.from_pretrained(model_name)\n",
    "model = BertForSequenceClassification.from_pretrained(model_name)\n",
    "\n",
    "transaction = merchant_sentences[5]\n",
    "print(transaction)\n",
    "\n",
    "inputs = tokenizer(transaction, return_tensors=\"pt\", truncation=True, padding=True)\n",
    "\n",
    "#  Predict the category\n",
    "outputs = model(**inputs)\n",
    "logits = outputs.logits\n",
    "predicted_category = logits.argmax(-1).item()\n",
    "\n",
    "print(f\"Predicted category: {predicted_category}\")"
   ]
  },
  {
   "cell_type": "code",
   "execution_count": null,
   "id": "efdc1e3e",
   "metadata": {},
   "outputs": [
    {
     "name": "stderr",
     "output_type": "stream",
     "text": [
      "Map: 100%|██████████| 7179/7179 [00:00<00:00, 20391.79 examples/s]\n",
      "Map: 100%|██████████| 1795/1795 [00:00<00:00, 27254.77 examples/s]\n",
      "Some weights of BertForSequenceClassification were not initialized from the model checkpoint at kuro-08/bert-transaction-categorization and are newly initialized because the shapes did not match:\n",
      "- classifier.bias: found shape torch.Size([25]) in the checkpoint and torch.Size([20]) in the model instantiated\n",
      "- classifier.weight: found shape torch.Size([25, 768]) in the checkpoint and torch.Size([20, 768]) in the model instantiated\n",
      "You should probably TRAIN this model on a down-stream task to be able to use it for predictions and inference.\n",
      "/tmp/ipykernel_36900/3165513163.py:72: FutureWarning: `tokenizer` is deprecated and will be removed in version 5.0.0 for `Trainer.__init__`. Use `processing_class` instead.\n",
      "  trainer = Trainer(\n"
     ]
    },
    {
     "data": {
      "text/html": [
       "\n",
       "    <div>\n",
       "      \n",
       "      <progress value='1796' max='1796' style='width:300px; height:20px; vertical-align: middle;'></progress>\n",
       "      [1796/1796 33:20, Epoch 4/4]\n",
       "    </div>\n",
       "    <table border=\"1\" class=\"dataframe\">\n",
       "  <thead>\n",
       " <tr style=\"text-align: left;\">\n",
       "      <th>Epoch</th>\n",
       "      <th>Training Loss</th>\n",
       "      <th>Validation Loss</th>\n",
       "      <th>Accuracy</th>\n",
       "    </tr>\n",
       "  </thead>\n",
       "  <tbody>\n",
       "    <tr>\n",
       "      <td>1</td>\n",
       "      <td>No log</td>\n",
       "      <td>0.622082</td>\n",
       "      <td>0.845682</td>\n",
       "    </tr>\n",
       "    <tr>\n",
       "      <td>2</td>\n",
       "      <td>1.013500</td>\n",
       "      <td>0.541883</td>\n",
       "      <td>0.847911</td>\n",
       "    </tr>\n",
       "    <tr>\n",
       "      <td>3</td>\n",
       "      <td>0.524000</td>\n",
       "      <td>0.517879</td>\n",
       "      <td>0.864067</td>\n",
       "    </tr>\n",
       "    <tr>\n",
       "      <td>4</td>\n",
       "      <td>0.398200</td>\n",
       "      <td>0.511381</td>\n",
       "      <td>0.870195</td>\n",
       "    </tr>\n",
       "  </tbody>\n",
       "</table><p>"
      ],
      "text/plain": [
       "<IPython.core.display.HTML object>"
      ]
     },
     "metadata": {},
     "output_type": "display_data"
    },
    {
     "data": {
      "text/plain": [
       "TrainOutput(global_step=1796, training_loss=0.5974296238480804, metrics={'train_runtime': 2003.0663, 'train_samples_per_second': 14.336, 'train_steps_per_second': 0.897, 'total_flos': 936118484438544.0, 'train_loss': 0.5974296238480804, 'epoch': 4.0})"
      ]
     },
     "execution_count": 8,
     "metadata": {},
     "output_type": "execute_result"
    }
   ],
   "source": [
    "# Load your data\n",
    "df = pd.read_csv(\"../data/raw-transactions.csv\")  # must include merchant_name and cat_label\n",
    "\n",
    "# Encode labels\n",
    "le = LabelEncoder()\n",
    "df[\"labels\"] = le.fit_transform(df[\"cat_label\"])\n",
    "num_labels = len(le.classes_)\n",
    "\n",
    "# Train/val split\n",
    "df_train, df_val = train_test_split(\n",
    "    df, \n",
    "    stratify=df[\"labels\"], \n",
    "    test_size=0.2, \n",
    "    random_state=42\n",
    ")\n",
    "\n",
    "# Load tokenizer and tokenize text\n",
    "model_name = \"kuro-08/bert-transaction-categorization\"\n",
    "tokenizer = AutoTokenizer.from_pretrained(model_name)\n",
    "\n",
    "def tokenize_function(example):\n",
    "    return tokenizer(\n",
    "        example[\"merchant_name\"], \n",
    "        truncation=True, \n",
    "        padding=True, \n",
    "        max_length=64\n",
    "    )\n",
    "\n",
    "# Convert to Hugging Face Datasets\n",
    "dataset_train = Dataset.from_pandas(df_train[[\"merchant_name\", \"labels\"]])\n",
    "dataset_val = Dataset.from_pandas(df_val[[\"merchant_name\", \"labels\"]])\n",
    "\n",
    "# Tokenize\n",
    "dataset_train = dataset_train.map(tokenize_function, batched=True)\n",
    "dataset_val = dataset_val.map(tokenize_function, batched=True)\n",
    "\n",
    "# Set format for PyTorch\n",
    "dataset_train.set_format(type=\"torch\", columns=[\"input_ids\", \"attention_mask\", \"labels\"])\n",
    "dataset_val.set_format(type=\"torch\", columns=[\"input_ids\", \"attention_mask\", \"labels\"])\n",
    "data_collator = DataCollatorWithPadding(tokenizer=tokenizer, return_tensors=\"pt\")\n",
    "\n",
    "# Load model\n",
    "model = AutoModelForSequenceClassification.from_pretrained(\n",
    "    model_name, \n",
    "    num_labels=num_labels,\n",
    "    ignore_mismatched_sizes=True\n",
    "    )\n",
    "\n",
    "# Freeze BERT layers (except output)\n",
    "for name, param in model.bert.named_parameters():\n",
    "    param.requires_grad = False\n",
    "\n",
    "# Define metrics\n",
    "eval_acc = evaluate.load(\"accuracy\")\n",
    "\n",
    "def compute_metrics(p):\n",
    "    preds = np.argmax(p.predictions, axis=1)\n",
    "    return eval_acc.compute(predictions=preds, references=p.label_ids)\n",
    "\n",
    "# Training arguments\n",
    "training_args = TrainingArguments(\n",
    "    output_dir=\"./bert-finetuned-transactions\",\n",
    "    per_device_train_batch_size=16,\n",
    "    per_device_eval_batch_size=16,\n",
    "    num_train_epochs=4,\n",
    "    eval_strategy=\"epoch\",\n",
    "    save_strategy=\"epoch\",\n",
    "    logging_dir=\"./logs\",\n",
    "    learning_rate=2e-5,\n",
    "    weight_decay=0.01,\n",
    "    load_best_model_at_end=True,\n",
    "    metric_for_best_model=\"accuracy\"\n",
    ")\n",
    "\n",
    "# Trainer\n",
    "trainer = Trainer(\n",
    "    model=model,\n",
    "    args=training_args,\n",
    "    train_dataset=dataset_train,\n",
    "    eval_dataset=dataset_val,\n",
    "    tokenizer=tokenizer,\n",
    "    data_collator=data_collator,\n",
    "    compute_metrics=compute_metrics\n",
    ")\n",
    "\n",
    "# Train\n",
    "trainer.train()"
   ]
  },
  {
   "cell_type": "code",
   "execution_count": 10,
   "id": "6dc424e6",
   "metadata": {},
   "outputs": [
    {
     "data": {
      "text/plain": [
       "['label_encoder.pkl']"
      ]
     },
     "execution_count": 10,
     "metadata": {},
     "output_type": "execute_result"
    }
   ],
   "source": [
    "import joblib\n",
    "\n",
    "# Save model and tokenizer\n",
    "model.save_pretrained(\"bert-finetuned-merchant\")\n",
    "tokenizer.save_pretrained(\"bert-finetuned-merchant\")\n",
    "\n",
    "# Save label encoder\n",
    "import joblib\n",
    "joblib.dump(le, \"label_encoder.pkl\")"
   ]
  },
  {
   "cell_type": "markdown",
   "id": "a74d3696",
   "metadata": {},
   "source": []
  },
  {
   "cell_type": "code",
   "execution_count": 11,
   "id": "95b01111",
   "metadata": {},
   "outputs": [
    {
     "data": {
      "text/plain": [
       "BertForSequenceClassification(\n",
       "  (bert): BertModel(\n",
       "    (embeddings): BertEmbeddings(\n",
       "      (word_embeddings): Embedding(30522, 768, padding_idx=0)\n",
       "      (position_embeddings): Embedding(512, 768)\n",
       "      (token_type_embeddings): Embedding(2, 768)\n",
       "      (LayerNorm): LayerNorm((768,), eps=1e-12, elementwise_affine=True)\n",
       "      (dropout): Dropout(p=0.1, inplace=False)\n",
       "    )\n",
       "    (encoder): BertEncoder(\n",
       "      (layer): ModuleList(\n",
       "        (0-11): 12 x BertLayer(\n",
       "          (attention): BertAttention(\n",
       "            (self): BertSdpaSelfAttention(\n",
       "              (query): Linear(in_features=768, out_features=768, bias=True)\n",
       "              (key): Linear(in_features=768, out_features=768, bias=True)\n",
       "              (value): Linear(in_features=768, out_features=768, bias=True)\n",
       "              (dropout): Dropout(p=0.1, inplace=False)\n",
       "            )\n",
       "            (output): BertSelfOutput(\n",
       "              (dense): Linear(in_features=768, out_features=768, bias=True)\n",
       "              (LayerNorm): LayerNorm((768,), eps=1e-12, elementwise_affine=True)\n",
       "              (dropout): Dropout(p=0.1, inplace=False)\n",
       "            )\n",
       "          )\n",
       "          (intermediate): BertIntermediate(\n",
       "            (dense): Linear(in_features=768, out_features=3072, bias=True)\n",
       "            (intermediate_act_fn): GELUActivation()\n",
       "          )\n",
       "          (output): BertOutput(\n",
       "            (dense): Linear(in_features=3072, out_features=768, bias=True)\n",
       "            (LayerNorm): LayerNorm((768,), eps=1e-12, elementwise_affine=True)\n",
       "            (dropout): Dropout(p=0.1, inplace=False)\n",
       "          )\n",
       "        )\n",
       "      )\n",
       "    )\n",
       "    (pooler): BertPooler(\n",
       "      (dense): Linear(in_features=768, out_features=768, bias=True)\n",
       "      (activation): Tanh()\n",
       "    )\n",
       "  )\n",
       "  (dropout): Dropout(p=0.1, inplace=False)\n",
       "  (classifier): Linear(in_features=768, out_features=20, bias=True)\n",
       ")"
      ]
     },
     "execution_count": 11,
     "metadata": {},
     "output_type": "execute_result"
    }
   ],
   "source": [
    "# Load model and tokenizer\n",
    "model = AutoModelForSequenceClassification.from_pretrained(\"bert-finetuned-merchant\")\n",
    "tokenizer = AutoTokenizer.from_pretrained(\"bert-finetuned-merchant\")\n",
    "model.eval()\n",
    "\n",
    "# Load label encoder\n",
    "le = joblib.load(\"label_encoder.pkl\")\n",
    "\n",
    "# Move to GPU if available\n",
    "device = torch.device(\"cuda\" if torch.cuda.is_available() else \"cpu\")\n",
    "model.to(device)"
   ]
  },
  {
   "cell_type": "code",
   "execution_count": 12,
   "id": "1266ca27",
   "metadata": {},
   "outputs": [],
   "source": [
    "def predict_merchant_labels(texts, batch_size=32):\n",
    "    preds = []\n",
    "\n",
    "    for i in range(0, len(texts), batch_size):\n",
    "        batch = texts[i:i+batch_size]\n",
    "        inputs = tokenizer(\n",
    "            batch,\n",
    "            truncation=True,\n",
    "            padding=True,\n",
    "            return_tensors=\"pt\",\n",
    "            max_length=64\n",
    "        ).to(device)\n",
    "\n",
    "        with torch.no_grad():\n",
    "            outputs = model(**inputs)\n",
    "            logits = outputs.logits\n",
    "            batch_preds = torch.argmax(logits, dim=1).cpu().numpy()\n",
    "            preds.extend(batch_preds)\n",
    "\n",
    "    return preds\n",
    "\n",
    "texts = df[\"merchant_name\"].astype(str).tolist()\n",
    "predicted_ids = predict_merchant_labels(texts)\n",
    "\n",
    "# Map back to original labels\n",
    "df[\"bert_finetuned_label\"] = le.inverse_transform(predicted_ids)"
   ]
  },
  {
   "cell_type": "code",
   "execution_count": 13,
   "id": "eafe79df",
   "metadata": {},
   "outputs": [
    {
     "data": {
      "text/plain": [
       "<Axes: ylabel='cat_label'>"
      ]
     },
     "execution_count": 13,
     "metadata": {},
     "output_type": "execute_result"
    },
    {
     "data": {
      "image/png": "[encoded data removed]",
      "text/plain": [
       "<Figure size 640x480 with 1 Axes>"
      ]
     },
     "metadata": {},
     "output_type": "display_data"
    }
   ],
   "source": [
    "df['accurate_label'] = df['cat_label'] == df['bert_finetuned_label']\n",
    "df.groupby('cat_label')['accurate_label'].mean().plot(kind='barh')"
   ]
  }
 ],
 "metadata": {
  "kernelspec": {
   "display_name": "txn-classifier",
   "language": "python",
   "name": "python3"
  },
  "language_info": {
   "codemirror_mode": {
    "name": "ipython",
    "version": 3
   },
   "file_extension": ".py",
   "mimetype": "text/x-python",
   "name": "python",
   "nbconvert_exporter": "python",
   "pygments_lexer": "ipython3",
   "version": "3.12.3"
  }
 },
 "nbformat": 4,
 "nbformat_minor": 5
}
